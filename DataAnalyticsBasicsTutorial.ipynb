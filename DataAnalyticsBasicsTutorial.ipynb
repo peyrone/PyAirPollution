{
 "cells": [
  {
   "cell_type": "markdown",
   "metadata": {},
   "source": [
    "## Data Analytics Basics Tutorial"
   ]
  },
  {
   "cell_type": "markdown",
   "metadata": {},
   "source": [
    "### 1. Key Libraries for Data Analysis\n",
    "\n",
    "#### 1.1 Pandas, a Python library, provides data structures and operations for manipulating numerical tables and time series. Key features include:\n",
    "\n",
    "- **Data structures for efficient data manipulation.**"
   ]
  },
  {
   "cell_type": "code",
   "execution_count": null,
   "metadata": {},
   "outputs": [],
   "source": [
    "# Flag to determine the source of the file\n",
    "use_local_file = False # Change to True if you want to use a local file"
   ]
  },
  {
   "cell_type": "code",
   "execution_count": null,
   "metadata": {},
   "outputs": [],
   "source": [
    "import pandas as pd\n",
    "\n",
    "if use_local_file:\n",
    "  # Import file from a local file\n",
    "  df = pd.read_csv('sample_data.csv')\n",
    "else:\n",
    "  # Import file from GitHub raw URL\n",
    "  url = 'https://raw.githubusercontent.com/peyrone/PyAirPollution/main/sample_data.csv'\n",
    "  df = pd.read_csv(url)"
   ]
  },
  {
   "cell_type": "code",
   "execution_count": null,
   "metadata": {},
   "outputs": [],
   "source": [
    "# Add a 'Salary' column\n",
    "df['Salary'] = [70000, 80000, 90000]\n",
    "\n",
    "# Add a 'Date' column in the format 'YYYY-MM-DD'\n",
    "df['Date'] = pd.to_datetime(['2021-01-01', '2021-01-02', '2021-01-03'])\n",
    "\n",
    "# Set the 'Date' column as the index of the DataFrame\n",
    "df.set_index('Date', inplace=True)\n",
    "\n",
    "# Display the DataFrame\n",
    "print(df)"
   ]
  },
  {
   "cell_type": "markdown",
   "metadata": {},
   "source": [
    "- **Easy handling of missing data.**"
   ]
  },
  {
   "cell_type": "code",
   "execution_count": null,
   "metadata": {},
   "outputs": [],
   "source": [
    "# Remove rows with missing values from the DataFrame\n",
    "df.dropna(inplace=True)\n",
    "\n",
    "# Display the DataFrame\n",
    "print(df)"
   ]
  },
  {
   "cell_type": "markdown",
   "metadata": {},
   "source": [
    "- **Time series functionality.**"
   ]
  },
  {
   "cell_type": "code",
   "execution_count": null,
   "metadata": {},
   "outputs": [],
   "source": [
    "# Convert daily data to monthly averages by resampling\n",
    "monthly_resampled_data = df.resample('M').mean()\n",
    "\n",
    "# Filter the DataFrame based on a time period (e.g., after January 2021)\n",
    "filtered_df = df[df.index > pd.to_datetime('2021-01-01')]\n",
    "\n",
    "print(\"\\nMonthly Resampled Data:\\n\", monthly_resampled_data)\n",
    "print(\"\\nFiltered DataFrame:\\n\", filtered_df)"
   ]
  },
  {
   "cell_type": "markdown",
   "metadata": {},
   "source": [
    "#### 1.2 NumPy is a Python package used for scientific computing, which provides multi-dimensional arrays for numerical operations. Key features include:\n",
    "\n",
    "- **Creating and Manipulating a Multidimensional Array**"
   ]
  },
  {
   "cell_type": "code",
   "execution_count": null,
   "metadata": {},
   "outputs": [],
   "source": [
    "import numpy as np\n",
    "\n",
    "# Create a 2D array (3x3 matrix)\n",
    "array_2d = np.array([[1, 2, 3], [4, 5, 6], [7, 8, 9]])\n",
    "\n",
    "# Reshape the array to 1x9\n",
    "reshaped_array = array_2d.reshape(1, 9)\n",
    "\n",
    "print(\"Original Array:\\n\", array_2d)\n",
    "print(\"Reshaped Array:\\n\", reshaped_array)"
   ]
  },
  {
   "cell_type": "markdown",
   "metadata": {},
   "source": [
    "- **Basic Mathematical Operations on Arrays**"
   ]
  },
  {
   "cell_type": "code",
   "execution_count": null,
   "metadata": {},
   "outputs": [],
   "source": [
    "# Create two arrays\n",
    "array1 = np.array([1, 2, 3])\n",
    "array2 = np.array([4, 5, 6])\n",
    "\n",
    "# Perform element-wise operations\n",
    "addition = array1 + array2\n",
    "subtraction = array1 - array2\n",
    "multiplication = array1 * array2\n",
    "\n",
    "print(\"Addition:\", addition)\n",
    "print(\"Subtraction:\", subtraction)\n",
    "print(\"Multiplication:\", multiplication)"
   ]
  },
  {
   "cell_type": "markdown",
   "metadata": {},
   "source": [
    "- **Advanced Mathematical Operations**"
   ]
  },
  {
   "cell_type": "code",
   "execution_count": null,
   "metadata": {},
   "outputs": [],
   "source": [
    "# Create two 2D arrays (matrices)\n",
    "matrix1 = np.array([[1, 2], [3, 4]])\n",
    "matrix2 = np.array([[5, 6], [7, 8]])\n",
    "\n",
    "# Matrix multiplication\n",
    "matrix_product = np.dot(matrix1, matrix2)\n",
    "\n",
    "# Compute the determinant of a matrix\n",
    "determinant = np.linalg.det(matrix1)\n",
    "\n",
    "print(\"Matrix Product:\\n\", matrix_product)\n",
    "print(\"Determinant of the first matrix:\", determinant)"
   ]
  },
  {
   "cell_type": "markdown",
   "metadata": {},
   "source": [
    "#### 1.3 Matplotlib is a Python library used for showing data through static, animated, and interactive charts and plots. Key features include:\n",
    "\n",
    "- **Static Visualization**"
   ]
  },
  {
   "cell_type": "code",
   "execution_count": null,
   "metadata": {},
   "outputs": [],
   "source": [
    "import matplotlib.pyplot as plt\n",
    "\n",
    "# Generate a sine wave\n",
    "x = np.linspace(0, 10, 100)\n",
    "y = np.sin(x)\n",
    "\n",
    "# Plotting\n",
    "plt.plot(x, y)\n",
    "plt.title(\"Sine Wave\")\n",
    "plt.xlabel(\"x\")\n",
    "plt.ylabel(\"sin(x)\")\n",
    "plt.show()"
   ]
  },
  {
   "cell_type": "markdown",
   "metadata": {},
   "source": [
    "- **Animated Visualization**"
   ]
  },
  {
   "cell_type": "code",
   "execution_count": null,
   "metadata": {},
   "outputs": [],
   "source": [
    "import matplotlib.animation as animation\n",
    "\n",
    "# Generating sine wave data\n",
    "x = np.linspace(0, 2*np.pi, 100)\n",
    "y = np.sin(x)\n",
    "\n",
    "fig, ax = plt.subplots()\n",
    "line, = ax.plot(x, y)\n",
    "\n",
    "def animate(i):\n",
    "  line.set_ydata(np.sin(x + i / 10.0))  # update the data\n",
    "  return line,\n",
    "\n",
    "# Create animation\n",
    "ani = animation.FuncAnimation(fig, animate, interval=50, blit=True)\n",
    "\n",
    "plt.show()"
   ]
  },
  {
   "cell_type": "markdown",
   "metadata": {},
   "source": [
    "- **Interactive Visualization**"
   ]
  },
  {
   "cell_type": "code",
   "execution_count": null,
   "metadata": {},
   "outputs": [],
   "source": [
    "fig, ax = plt.subplots()\n",
    "x = np.linspace(0, 2*np.pi, 100)\n",
    "y = np.sin(x)\n",
    "line, = ax.plot(x, y)\n",
    "\n",
    "def onclick(event):\n",
    "    y = np.sin(x + event.xdata)\n",
    "    line.set_ydata(y)\n",
    "    fig.canvas.draw()\n",
    "\n",
    "fig.canvas.mpl_connect('button_press_event', onclick)\n",
    "plt.show()"
   ]
  },
  {
   "cell_type": "markdown",
   "metadata": {},
   "source": [
    "### 2. Data Analysis Process\n",
    "\n",
    "This example analyzes the Pima Indians Diabetes Database, which includes health data from Pima Indian women near Phoenix, Arizona, USA, a group with a high incidence of type 2 diabetes. The dataset includes:\n",
    "\n",
    "- **preg:** Number of pregnancies.\n",
    "- **plas:** Plasma glucose concentration (a key indicator for diabetes).\n",
    "- **pres:** Blood pressure (mm Hg).\n",
    "- **skin:** Skinfold thickness (mm) at the triceps, used to estimate body fat.\n",
    "- **insu:** 2-hour serum insulin level (mu U/ml).\n",
    "- **mass:** Body Mass Index (BMI), a measure of body fat based on height and weight.\n",
    "- **pedi:** Diabetes pedigree function, indicating genetic predisposition to diabetes.\n",
    "- **age:** Age in years.\n",
    "- **class:** Indicates if the patient has diabetes (1) or not (0)."
   ]
  },
  {
   "cell_type": "markdown",
   "metadata": {},
   "source": [
    "#### 2.1 Data importation"
   ]
  },
  {
   "cell_type": "code",
   "execution_count": null,
   "metadata": {},
   "outputs": [],
   "source": [
    "from sklearn.datasets import fetch_openml\n",
    "\n",
    "diabetes_data = fetch_openml(name='diabetes', version=1, as_frame=True)\n",
    "df = diabetes_data.frame\n",
    "\n",
    "# Print the column names\n",
    "print(df.columns)"
   ]
  },
  {
   "cell_type": "markdown",
   "metadata": {},
   "source": [
    "#### 2.2 Data cleaning and preprocessing"
   ]
  },
  {
   "cell_type": "code",
   "execution_count": null,
   "metadata": {},
   "outputs": [],
   "source": [
    "# Replace zeros with NaN in columns where zero is not a valid value\n",
    "for col in ['plas', 'pres', 'skin', 'insu', 'mass']:\n",
    "  df[col].replace(0, pd.NA, inplace=True)\n",
    "\n",
    "# Fill missing values with mean of the column\n",
    "df.fillna(df.mean(), inplace=True)"
   ]
  },
  {
   "cell_type": "markdown",
   "metadata": {},
   "source": [
    "#### 2.3 Data exploration\n",
    "\n",
    "**Typical insights from this dataset usually include:**\n",
    "\n",
    "- **Distribution of Diagnostic Measures:** Analysis often reveals the distribution of key measures like plasma glucose, BMI, and age, which can help in understanding the general health profile of the population.\n",
    "\n",
    "- **Correlation between Variables:** By examining correlations, one can identify which factors are more strongly associated with diabetes. For instance, higher plasma glucose levels might show a stronger correlation with diabetes outcomes.\n",
    "\n",
    "- **Age and Diabetes:** Age distribution might reveal specific age groups at higher risk of diabetes.\n",
    "\n",
    "- **Missing Data Impact:** The approach to handling missing data (like replacing zeros with the mean) can significantly affect the analysis outcomes, highlighting the importance of robust data preprocessing.\n",
    "\n",
    "- **Predictive Modeling:** The dataset is commonly used to build predictive models to identify individuals at higher risk of developing diabetes, based on their medical measurements."
   ]
  },
  {
   "cell_type": "code",
   "execution_count": null,
   "metadata": {},
   "outputs": [],
   "source": [
    "# Summary statistics and information\n",
    "print(df.describe())\n",
    "print(df.info())"
   ]
  },
  {
   "cell_type": "code",
   "execution_count": null,
   "metadata": {},
   "outputs": [],
   "source": [
    "# Count the instances of each class\n",
    "class_counts = df['class'].value_counts()\n",
    "print(class_counts)"
   ]
  },
  {
   "cell_type": "markdown",
   "metadata": {},
   "source": [
    "**Understanding Correlation Values:**\n",
    "\n",
    "- Correlation coefficients range from -1 to 1.\n",
    "- A value close to 1 implies a strong positive correlation (as one variable increases, so does the other).\n",
    "- A value close to -1 implies a strong negative correlation (as one variable increases, the other decreases).\n",
    "- A value around 0 suggests no correlation."
   ]
  },
  {
   "cell_type": "code",
   "execution_count": null,
   "metadata": {},
   "outputs": [],
   "source": [
    "# Correlation Analysis\n",
    "correlation_matrix = df.corr()\n",
    "print(\"\\nCorrelation Matrix:\\n\", correlation_matrix)"
   ]
  },
  {
   "cell_type": "markdown",
   "metadata": {},
   "source": [
    "**Interpreting Each Pair:**\n",
    "\n",
    "- Older age links to more pregnancies.\n",
    "- Higher blood glucose relates to higher insulin levels.\n",
    "- Thicker skin folds align with a higher body mass index.\n",
    "- Increased body mass is associated with higher blood pressure.\n",
    "- Diabetes pedigree function doesn't strongly relate to blood pressure, body mass, or age."
   ]
  },
  {
   "cell_type": "markdown",
   "metadata": {},
   "source": [
    "#### 2.4 Data visualization"
   ]
  },
  {
   "cell_type": "code",
   "execution_count": null,
   "metadata": {},
   "outputs": [],
   "source": [
    "# Install a pip package in the current Jupyter kernel\n",
    "import sys\n",
    "!{sys.executable} -m pip install seaborn"
   ]
  },
  {
   "cell_type": "code",
   "execution_count": null,
   "metadata": {},
   "outputs": [],
   "source": [
    "# Heatmap of Correlation Matrix\n",
    "import seaborn as sns\n",
    "\n",
    "plt.figure(figsize=(10, 8))\n",
    "sns.heatmap(correlation_matrix, annot=True, cmap='coolwarm')\n",
    "plt.title('Correlation Heatmap')\n",
    "plt.show()"
   ]
  },
  {
   "cell_type": "code",
   "execution_count": null,
   "metadata": {},
   "outputs": [],
   "source": [
    "# Histogram of age\n",
    "plt.figure(figsize=(8, 6))\n",
    "df['age'].hist(bins=15)\n",
    "plt.title('Age Distribution')\n",
    "plt.xlabel('Age')\n",
    "plt.ylabel('Frequency')\n",
    "plt.show()"
   ]
  },
  {
   "cell_type": "code",
   "execution_count": null,
   "metadata": {},
   "outputs": [],
   "source": [
    "# Scatter plot of Plasma Glucose vs. BMI colored by Outcome\n",
    "plt.figure(figsize=(8, 6))\n",
    "groups = df.groupby('class')\n",
    "for name, group in groups:\n",
    "  plt.scatter(group['plas'], group['mass'], label=f'Class {name}')\n",
    "plt.legend()\n",
    "plt.title('Plasma Glucose vs. BMI by Outcome')\n",
    "plt.xlabel('Plasma Glucose')\n",
    "plt.ylabel('BMI')\n",
    "plt.show()"
   ]
  }
 ],
 "metadata": {
  "kernelspec": {
   "display_name": "Python 3",
   "language": "python",
   "name": "python3"
  },
  "language_info": {
   "codemirror_mode": {
    "name": "ipython",
    "version": 3
   },
   "file_extension": ".py",
   "mimetype": "text/x-python",
   "name": "python",
   "nbconvert_exporter": "python",
   "pygments_lexer": "ipython3",
   "version": "3.10.2"
  }
 },
 "nbformat": 4,
 "nbformat_minor": 2
}
