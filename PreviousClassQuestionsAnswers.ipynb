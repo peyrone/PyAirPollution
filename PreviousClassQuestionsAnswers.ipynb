{
 "cells": [
  {
   "cell_type": "markdown",
   "metadata": {},
   "source": [
    "## Discussion and Answers for Questions from Previous Class"
   ]
  },
  {
   "cell_type": "markdown",
   "metadata": {},
   "source": [
    "### Question 1: How can I save a DataFrame as a CSV file using Pandas?"
   ]
  },
  {
   "cell_type": "code",
   "execution_count": null,
   "metadata": {},
   "outputs": [],
   "source": [
    "# Install a pip package in the current Jupyter kernel\n",
    "import sys\n",
    "!{sys.executable} -m pip install pandas"
   ]
  },
  {
   "cell_type": "code",
   "execution_count": null,
   "metadata": {},
   "outputs": [],
   "source": [
    "# Importing libraries\n",
    "import pandas as pd"
   ]
  },
  {
   "cell_type": "code",
   "execution_count": null,
   "metadata": {},
   "outputs": [],
   "source": [
    "# Create or load your DataFrame (replace this with your DataFrame)\n",
    "data = {'Column1': [1, 2, 3, 4],\n",
    "        'Column2': ['A', 'B', 'C', 'D']}\n",
    "df = pd.DataFrame(data)"
   ]
  },
  {
   "cell_type": "code",
   "execution_count": null,
   "metadata": {},
   "outputs": [],
   "source": [
    "# Export the DataFrame to a CSV file\n",
    "df.to_csv('your_file_name.csv', index=False)"
   ]
  },
  {
   "cell_type": "markdown",
   "metadata": {},
   "source": [
    "### Question 2: How to scrape a webpage using Python?"
   ]
  },
  {
   "cell_type": "code",
   "execution_count": null,
   "metadata": {},
   "outputs": [],
   "source": [
    "# Install a pip package in the current Jupyter kernel\n",
    "import sys\n",
    "!{sys.executable} -m pip install requests beautifulsoup4"
   ]
  },
  {
   "cell_type": "code",
   "execution_count": null,
   "metadata": {},
   "outputs": [],
   "source": [
    "# Importing libraries\n",
    "import csv\n",
    "import requests\n",
    "from bs4 import BeautifulSoup"
   ]
  },
  {
   "cell_type": "code",
   "execution_count": null,
   "metadata": {},
   "outputs": [],
   "source": [
    "# Define the URL of the Goodreads shelf you want to crawl\n",
    "url = 'https://www.goodreads.com/shelf/show/machinelearning'"
   ]
  },
  {
   "cell_type": "code",
   "execution_count": null,
   "metadata": {},
   "outputs": [],
   "source": [
    "# Send an HTTP GET request to fetch the webpage content\n",
    "response = requests.get(url)"
   ]
  },
  {
   "cell_type": "code",
   "execution_count": null,
   "metadata": {},
   "outputs": [],
   "source": [
    "# Check if the request was successful (status code 200)\n",
    "if response.status_code == 200:\n",
    "  # Parse the HTML content using BeautifulSoup\n",
    "  soup = BeautifulSoup(response.text, 'html.parser')\n",
    "\n",
    "  # Extract and print the title of the webpage\n",
    "  title = soup.title.string\n",
    "  print(f\"Title: {title}\")\n",
    "\n",
    "  # Extract book titles from the shelf with class='bookTitle'\n",
    "  book_titles = [element.text.strip() for element in soup.find_all(class_='bookTitle')]\n",
    "\n",
    "  # Extract authors with itemprop=\"name\"\n",
    "  authors = soup.find_all(attrs={\"itemprop\": \"name\"})\n",
    "\n",
    "  # Check if the number of book titles matches the number of authors\n",
    "  if len(book_titles) == len(authors):\n",
    "    # Create a list of dictionaries with book information\n",
    "    books_info = [{\"Book Title\": title, \"Author\": author.get_text()} for title, author in zip(book_titles, authors)]\n",
    "\n",
    "    # Specify the CSV file name\n",
    "    csv_file_name = 'books.csv'\n",
    "\n",
    "    # Write the extracted data to a CSV file\n",
    "    with open(csv_file_name, 'w', newline='') as csv_file:\n",
    "      fieldnames = [\"Book Title\", \"Author\"]\n",
    "      writer = csv.DictWriter(csv_file, fieldnames=fieldnames)\n",
    "            \n",
    "      # Write the header row\n",
    "      writer.writeheader()\n",
    "            \n",
    "      # Write book information\n",
    "      writer.writerows(books_info)\n",
    "\n",
    "      print(f\"Data written to {csv_file_name}\")\n",
    "  else:\n",
    "    print(\"Number of book titles does not match the number of authors.\")\n",
    "else:\n",
    "  print(f\"Failed to fetch the webpage. Status code: {response.status_code}\")"
   ]
  },
  {
   "cell_type": "markdown",
   "metadata": {},
   "source": [
    "### Question 3: How can I calculate the correlation between two variables with different timestamps in Python?"
   ]
  },
  {
   "cell_type": "code",
   "execution_count": null,
   "metadata": {},
   "outputs": [],
   "source": [
    "# Importing libraries\n",
    "import pandas as pd\n",
    "import numpy as np"
   ]
  },
  {
   "cell_type": "code",
   "execution_count": null,
   "metadata": {},
   "outputs": [],
   "source": [
    "# Example data\n",
    "timestamps1 = pd.date_range(start=\"2023-01-01\", periods=10, freq=\"D\")\n",
    "data1 = np.random.rand(10)\n",
    "\n",
    "timestamps2 = pd.date_range(start=\"2023-01-05\", periods=10, freq=\"D\")\n",
    "data2 = np.random.rand(10)"
   ]
  },
  {
   "cell_type": "code",
   "execution_count": null,
   "metadata": {},
   "outputs": [],
   "source": [
    "# Create DataFrames\n",
    "df1 = pd.DataFrame(data1, index=timestamps1, columns=[\"Variable1\"])\n",
    "df2 = pd.DataFrame(data2, index=timestamps2, columns=[\"Variable2\"])"
   ]
  },
  {
   "cell_type": "code",
   "execution_count": null,
   "metadata": {},
   "outputs": [],
   "source": [
    "# Resample and forward-fill missing values to align the data\n",
    "df1_resampled = df1.resample(\"D\").ffill()\n",
    "df2_resampled = df2.resample(\"D\").ffill()"
   ]
  },
  {
   "cell_type": "code",
   "execution_count": null,
   "metadata": {},
   "outputs": [],
   "source": [
    "# Calculate the correlation\n",
    "correlation = df1_resampled[\"Variable1\"].corr(df2_resampled[\"Variable2\"])"
   ]
  },
  {
   "cell_type": "code",
   "execution_count": null,
   "metadata": {},
   "outputs": [],
   "source": [
    "print(\"Correlation between Variable1 and Variable2:\")\n",
    "print(correlation)"
   ]
  }
 ],
 "metadata": {
  "kernelspec": {
   "display_name": "Python 3",
   "language": "python",
   "name": "python3"
  },
  "language_info": {
   "codemirror_mode": {
    "name": "ipython",
    "version": 3
   },
   "file_extension": ".py",
   "mimetype": "text/x-python",
   "name": "python",
   "nbconvert_exporter": "python",
   "pygments_lexer": "ipython3",
   "version": "3.10.2"
  }
 },
 "nbformat": 4,
 "nbformat_minor": 2
}
