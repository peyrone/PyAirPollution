{
 "cells": [
  {
   "cell_type": "markdown",
   "metadata": {},
   "source": [
    "## PyAirPollution Data Analysis"
   ]
  },
  {
   "cell_type": "markdown",
   "metadata": {},
   "source": [
    "In this tutorial, we use the US EPA AirData, a public database from the US Environmental Protection Agency. It has detailed air quality data, including PM2.5 levels, for various years. You can download it in formats like yearly concentration or Air Quality Index by county. With its extensive data, it's great for researching air quality trends and effects."
   ]
  },
  {
   "cell_type": "markdown",
   "metadata": {},
   "source": [
    "### 1. Importing the Data\n",
    "\n",
    "- Get the PM2.5 data file from the US EPA AirData site.\n",
    "- Open the file called 'annual_aqi_by_county_2023.csv'.\n",
    "- This CSV file contains fields includes:\n",
    "\n",
    "  - **State:** The state in which the air quality was measured.\n",
    "  - **County:** The specific county within the state.\n",
    "  - **Year**: The year the data was recorded.\n",
    "  - **Days with AQI:** Total number of days air quality was measured.\n",
    "  - **Good Days:** Days with good air quality.\n",
    "  - **Moderate Days:** Days with moderate air quality.\n",
    "  - **Unhealthy for Sensitive Groups Days:** Days when air quality was unhealthy for sensitive groups like people with asthma.\n",
    "  - **Unhealthy Days:** Days with unhealthy air quality for the general population.\n",
    "  - **Very Unhealthy Days:** Days with very poor air quality, posing health risks to everyone.\n",
    "  - **Hazardous Days:** Days with extremely dangerous air quality levels.\n",
    "  - **Max AQI:** Maximum Air Quality Index recorded in the year.\n",
    "  - **90th Percentile AQI:** The AQI value below which 90% of all AQI values fall.\n",
    "  - **Median AQI:** The middle AQI value when all are lined up from lowest to highest.\n",
    "  - **Days CO:** Days when Carbon Monoxide (CO) was the primary pollutant.\n",
    "  - **Days NO2:** Days when Nitrogen Dioxide (NO2) was the primary pollutant.\n",
    "  - **Days Ozone:** Days when Ozone was the primary pollutant.\n",
    "  - **Days PM2.5:** Days when fine particulate matter (PM2.5) was the primary pollutant.\n",
    "  - **Days PM10:** Days when coarse particulate matter (PM10) was the primary pollutant.\n"
   ]
  },
  {
   "cell_type": "code",
   "execution_count": null,
   "metadata": {},
   "outputs": [],
   "source": [
    "# Flag to determine the source of the file\n",
    "use_local_file = False # Change to True if you want to use a local file"
   ]
  },
  {
   "cell_type": "code",
   "execution_count": null,
   "metadata": {},
   "outputs": [],
   "source": [
    "import pandas as pd\n",
    "\n",
    "if use_local_file:\n",
    "  # Import file from a local file\n",
    "  epa_data = pd.read_csv('annual_aqi_by_county_2023.csv')\n",
    "else:\n",
    "  # Import file from GitHub raw URL\n",
    "  url = 'https://raw.githubusercontent.com/peyrone/PyAirPollution/main/annual_aqi_by_county_2023.csv'\n",
    "  epa_data = pd.read_csv(url)"
   ]
  },
  {
   "cell_type": "markdown",
   "metadata": {},
   "source": [
    "### 2. Cleaning and Preparing Data\n",
    "\n",
    "- Handle missing values, correct data types, and remove duplicates."
   ]
  },
  {
   "cell_type": "markdown",
   "metadata": {},
   "source": [
    "#### 2.1 Inspect for Missing Values"
   ]
  },
  {
   "cell_type": "code",
   "execution_count": null,
   "metadata": {},
   "outputs": [],
   "source": [
    "# Check for missing values\n",
    "print(epa_data.isnull().sum())\n",
    "\n",
    "# If missing values are not significant, we might drop them\n",
    "epa_data.dropna(inplace=True)"
   ]
  },
  {
   "cell_type": "markdown",
   "metadata": {},
   "source": [
    "#### 2.2 Correcting Data Types"
   ]
  },
  {
   "cell_type": "code",
   "execution_count": null,
   "metadata": {},
   "outputs": [],
   "source": [
    "# Correct data types if needed\n",
    "epa_data['Year'] = epa_data['Year'].astype(str)"
   ]
  },
  {
   "cell_type": "markdown",
   "metadata": {},
   "source": [
    "### 2.3 Dealing with Duplicates"
   ]
  },
  {
   "cell_type": "code",
   "execution_count": null,
   "metadata": {},
   "outputs": [],
   "source": [
    "# Remove duplicate rows\n",
    "epa_data.drop_duplicates(inplace=True)"
   ]
  },
  {
   "cell_type": "markdown",
   "metadata": {},
   "source": [
    "### 2.4 Handling Outliers"
   ]
  },
  {
   "cell_type": "code",
   "execution_count": null,
   "metadata": {},
   "outputs": [],
   "source": [
    "# Example using Z-score\n",
    "from scipy import stats\n",
    "z_scores = stats.zscore(epa_data['Good Days'])\n",
    "\n",
    "outliers = epa_data[(abs(z_scores) > 3)]\n",
    "print(\"Outliers based on Z-scores:\\n\", outliers)"
   ]
  },
  {
   "cell_type": "markdown",
   "metadata": {},
   "source": [
    "### 3. Exploring Data\n",
    "\n",
    "- Explore the data with basic statistical methods."
   ]
  },
  {
   "cell_type": "code",
   "execution_count": null,
   "metadata": {},
   "outputs": [],
   "source": [
    "# Summary statistics and information\n",
    "print(epa_data.describe())\n",
    "print(epa_data.info())"
   ]
  },
  {
   "cell_type": "markdown",
   "metadata": {},
   "source": [
    "**Understanding Correlation Values:**\n",
    "\n",
    "- Correlation coefficients range from -1 to 1.\n",
    "- A value close to 1 implies a strong positive correlation (as one variable increases, so does the other).\n",
    "- A value close to -1 implies a strong negative correlation (as one variable increases, the other decreases).\n",
    "- A value around 0 suggests no correlation."
   ]
  },
  {
   "cell_type": "code",
   "execution_count": null,
   "metadata": {},
   "outputs": [],
   "source": [
    "# Correlation Analysis\n",
    "correlation_matrix = epa_data.corr()\n",
    "print(\"\\nCorrelation Matrix:\\n\", correlation_matrix)"
   ]
  },
  {
   "cell_type": "markdown",
   "metadata": {},
   "source": [
    "**This correlation matrix analyzes relationships between air quality indicators:**\n",
    "\n",
    "- **'Days with AQI'** and **'Good Days'** are strongly correlated, indicating more monitored days often mean more good air quality days.\n",
    "- **'Moderate Days'** negatively affect **'Good Days'** but correlate positively with **'Days with AQI'**.\n",
    "- **'Unhealthy for Sensitive Groups Days'** increase with **'Moderate Days'** but decrease **'Good Days'**.\n",
    "- A strong negative correlation between **'Days Ozone' and 'Days PM2.5'** suggests that high ozone days often have low PM2.5 pollution, and vice versa.\n",
    "- Higher pollution levels (Max AQI, 90th Percentile AQI, Median AQI) are associated with more **'Moderate'**, **'Unhealthy for Sensitive Groups'**, and **'Unhealthy'** days."
   ]
  },
  {
   "cell_type": "markdown",
   "metadata": {},
   "source": [
    "### 4. Visualizing Data\n",
    "\n",
    "- Show the data in graphs to see trends and patterns. For example, make a bar chart to display the average good days in each state."
   ]
  },
  {
   "cell_type": "code",
   "execution_count": null,
   "metadata": {},
   "outputs": [],
   "source": [
    "# Install a pip package in the current Jupyter kernel\n",
    "import sys\n",
    "!{sys.executable} -m pip install seaborn"
   ]
  },
  {
   "cell_type": "code",
   "execution_count": null,
   "metadata": {},
   "outputs": [],
   "source": [
    "# Heatmap of Correlation Matrix\n",
    "import matplotlib.pyplot as plt\n",
    "import seaborn as sns\n",
    "\n",
    "plt.figure(figsize=(10, 8))\n",
    "sns.heatmap(correlation_matrix, annot=True, cmap='coolwarm')\n",
    "plt.title('Correlation Heatmap')\n",
    "plt.show()"
   ]
  },
  {
   "cell_type": "code",
   "execution_count": null,
   "metadata": {},
   "outputs": [],
   "source": [
    "# Plotting PM2.5 data\n",
    "avg_good_days = epa_data.groupby('State')['Good Days'].mean()\n",
    "avg_good_days.plot(kind='bar')\n",
    "plt.ylabel('Average Good Days')\n",
    "plt.title('Average Good Days per State')\n",
    "plt.show()"
   ]
  }
 ],
 "metadata": {
  "kernelspec": {
   "display_name": "Python 3",
   "language": "python",
   "name": "python3"
  },
  "language_info": {
   "codemirror_mode": {
    "name": "ipython",
    "version": 3
   },
   "file_extension": ".py",
   "mimetype": "text/x-python",
   "name": "python",
   "nbconvert_exporter": "python",
   "pygments_lexer": "ipython3",
   "version": "3.10.2"
  }
 },
 "nbformat": 4,
 "nbformat_minor": 2
}
